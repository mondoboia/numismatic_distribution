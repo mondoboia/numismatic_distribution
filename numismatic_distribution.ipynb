{
 "cells": [
  {
   "cell_type": "markdown",
   "metadata": {},
   "source": [
    "# Numismatic Distribution in Imperial Roman Africa Shown Through Social Network Analysis"
   ]
  },
  {
   "cell_type": "markdown",
   "metadata": {},
   "source": [
    "## Abstract"
   ]
  },
  {
   "cell_type": "markdown",
   "metadata": {},
   "source": [
    "Brief summary of the whole study (around 60-120 words), summarising the salient parts of the sections below."
   ]
  },
  {
   "cell_type": "markdown",
   "metadata": {},
   "source": [
    "## Context"
   ]
  },
  {
   "cell_type": "markdown",
   "metadata": {},
   "source": [
    "The context includes: the general field (e.g., literature, history, archaeology, tourism, biology, forensics, religious studies); the specific application (e.g., literary analysis, quantitative history, genetics, virology, forensics intelligence, tourism planning, biblical quantitative studies)."
   ]
  },
  {
   "cell_type": "markdown",
   "metadata": {},
   "source": [
    "## Problem and Motivation"
   ]
  },
  {
   "cell_type": "markdown",
   "metadata": {},
   "source": [
    "What are the problems you want to address? Why are those problems important (impact, theoretical and/ or practical needs, etc.)? What are the main contributions of the project?"
   ]
  },
  {
   "cell_type": "markdown",
   "metadata": {},
   "source": [
    "## Datasets"
   ]
  },
  {
   "cell_type": "markdown",
   "metadata": {},
   "source": [
    "How did you gather the data? Did you digitise it? How? Is the material publicly available? What tools did you use:\n",
    "1. to handle (store, manipulate) the data and \n",
    "2. to compute measures on the data?"
   ]
  },
  {
   "cell_type": "markdown",
   "metadata": {},
   "source": [
    "## Validity and Reliability"
   ]
  },
  {
   "cell_type": "markdown",
   "metadata": {},
   "source": [
    "How closely does the model of your dataset represent reality (validity)?\n",
    "How consistent is the model you assembled (reliability)?"
   ]
  },
  {
   "cell_type": "markdown",
   "metadata": {},
   "source": [
    "## Results"
   ]
  },
  {
   "cell_type": "markdown",
   "metadata": {},
   "source": [
    "What is the connection among: the gathered data, the applied measures, and the properties found?"
   ]
  },
  {
   "cell_type": "markdown",
   "metadata": {},
   "source": [
    "## Critique"
   ]
  },
  {
   "cell_type": "markdown",
   "metadata": {},
   "source": [
    "Do you think your work solves the problem presented above? To which extent (completely, what parts)? Why? What could you have done differently to answer your research problems (e.g., gather data with additional information, build your model differently, apply alternative measures)?"
   ]
  },
  {
   "cell_type": "markdown",
   "metadata": {},
   "source": [
    "## Data Analysis"
   ]
  },
  {
   "cell_type": "markdown",
   "metadata": {},
   "source": [
    "### Importing"
   ]
  },
  {
   "cell_type": "code",
   "execution_count": 3,
   "metadata": {},
   "outputs": [
    {
     "data": {
      "text/html": [
       "<div>\n",
       "<style scoped>\n",
       "    .dataframe tbody tr th:only-of-type {\n",
       "        vertical-align: middle;\n",
       "    }\n",
       "\n",
       "    .dataframe tbody tr th {\n",
       "        vertical-align: top;\n",
       "    }\n",
       "\n",
       "    .dataframe thead th {\n",
       "        text-align: right;\n",
       "    }\n",
       "</style>\n",
       "<table border=\"1\" class=\"dataframe\">\n",
       "  <thead>\n",
       "    <tr style=\"text-align: right;\">\n",
       "      <th></th>\n",
       "      <th>Catalogue</th>\n",
       "      <th>Region</th>\n",
       "      <th>Findspot</th>\n",
       "      <th>Province</th>\n",
       "      <th>Type</th>\n",
       "      <th>Denomination</th>\n",
       "      <th>Weight</th>\n",
       "      <th>Year_min</th>\n",
       "      <th>Year_max</th>\n",
       "      <th>Mint_Year</th>\n",
       "      <th>Circulation</th>\n",
       "      <th>Terminal_date</th>\n",
       "      <th>Mint</th>\n",
       "    </tr>\n",
       "  </thead>\n",
       "  <tbody>\n",
       "    <tr>\n",
       "      <th>0</th>\n",
       "      <td>1</td>\n",
       "      <td>Africa</td>\n",
       "      <td>Gafsa</td>\n",
       "      <td>Proconsularis</td>\n",
       "      <td>hoard</td>\n",
       "      <td>sestertius</td>\n",
       "      <td>21.07</td>\n",
       "      <td>104</td>\n",
       "      <td>111</td>\n",
       "      <td>108.0</td>\n",
       "      <td>152.0</td>\n",
       "      <td>259</td>\n",
       "      <td>Rome</td>\n",
       "    </tr>\n",
       "    <tr>\n",
       "      <th>1</th>\n",
       "      <td>2</td>\n",
       "      <td>Africa</td>\n",
       "      <td>Gafsa</td>\n",
       "      <td>Proconsularis</td>\n",
       "      <td>hoard</td>\n",
       "      <td>sestertius</td>\n",
       "      <td>21.11</td>\n",
       "      <td>116</td>\n",
       "      <td>117</td>\n",
       "      <td>117.0</td>\n",
       "      <td>143.0</td>\n",
       "      <td>259</td>\n",
       "      <td>Rome</td>\n",
       "    </tr>\n",
       "    <tr>\n",
       "      <th>2</th>\n",
       "      <td>3</td>\n",
       "      <td>Africa</td>\n",
       "      <td>Gafsa</td>\n",
       "      <td>Proconsularis</td>\n",
       "      <td>hoard</td>\n",
       "      <td>sestertius</td>\n",
       "      <td>23.27</td>\n",
       "      <td>116</td>\n",
       "      <td>117</td>\n",
       "      <td>117.0</td>\n",
       "      <td>143.0</td>\n",
       "      <td>259</td>\n",
       "      <td>Rome</td>\n",
       "    </tr>\n",
       "    <tr>\n",
       "      <th>3</th>\n",
       "      <td>4</td>\n",
       "      <td>Africa</td>\n",
       "      <td>Gafsa</td>\n",
       "      <td>Proconsularis</td>\n",
       "      <td>hoard</td>\n",
       "      <td>sestertius</td>\n",
       "      <td>25.42</td>\n",
       "      <td>119</td>\n",
       "      <td>138</td>\n",
       "      <td>129.0</td>\n",
       "      <td>131.0</td>\n",
       "      <td>259</td>\n",
       "      <td>Rome</td>\n",
       "    </tr>\n",
       "    <tr>\n",
       "      <th>4</th>\n",
       "      <td>5</td>\n",
       "      <td>Africa</td>\n",
       "      <td>Gafsa</td>\n",
       "      <td>Proconsularis</td>\n",
       "      <td>hoard</td>\n",
       "      <td>sestertius</td>\n",
       "      <td>21.81</td>\n",
       "      <td>119</td>\n",
       "      <td>138</td>\n",
       "      <td>129.0</td>\n",
       "      <td>131.0</td>\n",
       "      <td>259</td>\n",
       "      <td>Rome</td>\n",
       "    </tr>\n",
       "    <tr>\n",
       "      <th>...</th>\n",
       "      <td>...</td>\n",
       "      <td>...</td>\n",
       "      <td>...</td>\n",
       "      <td>...</td>\n",
       "      <td>...</td>\n",
       "      <td>...</td>\n",
       "      <td>...</td>\n",
       "      <td>...</td>\n",
       "      <td>...</td>\n",
       "      <td>...</td>\n",
       "      <td>...</td>\n",
       "      <td>...</td>\n",
       "      <td>...</td>\n",
       "    </tr>\n",
       "    <tr>\n",
       "      <th>50965</th>\n",
       "      <td>50966</td>\n",
       "      <td>Africa</td>\n",
       "      <td>Segermes</td>\n",
       "      <td>Proconsularis</td>\n",
       "      <td>sitefind</td>\n",
       "      <td>antoninianus</td>\n",
       "      <td>1.46</td>\n",
       "      <td>270</td>\n",
       "      <td>270</td>\n",
       "      <td>270.0</td>\n",
       "      <td>NaN</td>\n",
       "      <td>NaN</td>\n",
       "      <td>Rome</td>\n",
       "    </tr>\n",
       "    <tr>\n",
       "      <th>50966</th>\n",
       "      <td>50967</td>\n",
       "      <td>Africa</td>\n",
       "      <td>Segermes</td>\n",
       "      <td>Proconsularis</td>\n",
       "      <td>sitefind</td>\n",
       "      <td>antoninianus</td>\n",
       "      <td>2.09</td>\n",
       "      <td>270</td>\n",
       "      <td>270</td>\n",
       "      <td>270.0</td>\n",
       "      <td>NaN</td>\n",
       "      <td>NaN</td>\n",
       "      <td>Rome</td>\n",
       "    </tr>\n",
       "    <tr>\n",
       "      <th>50967</th>\n",
       "      <td>50968</td>\n",
       "      <td>Africa</td>\n",
       "      <td>Segermes</td>\n",
       "      <td>Proconsularis</td>\n",
       "      <td>sitefind</td>\n",
       "      <td>antoninianus</td>\n",
       "      <td>2.57</td>\n",
       "      <td>270</td>\n",
       "      <td>275</td>\n",
       "      <td>272.5</td>\n",
       "      <td>NaN</td>\n",
       "      <td>NaN</td>\n",
       "      <td>Tripoli</td>\n",
       "    </tr>\n",
       "    <tr>\n",
       "      <th>50968</th>\n",
       "      <td>50969</td>\n",
       "      <td>Africa</td>\n",
       "      <td>Segermes</td>\n",
       "      <td>Proconsularis</td>\n",
       "      <td>sitefind</td>\n",
       "      <td>antoninianus</td>\n",
       "      <td>1.46</td>\n",
       "      <td>260</td>\n",
       "      <td>268</td>\n",
       "      <td>264.0</td>\n",
       "      <td>NaN</td>\n",
       "      <td>NaN</td>\n",
       "      <td>Rome</td>\n",
       "    </tr>\n",
       "    <tr>\n",
       "      <th>50969</th>\n",
       "      <td>50970</td>\n",
       "      <td>Africa</td>\n",
       "      <td>Segermes</td>\n",
       "      <td>Proconsularis</td>\n",
       "      <td>sitefind</td>\n",
       "      <td>antoninianus</td>\n",
       "      <td>2.87</td>\n",
       "      <td>260</td>\n",
       "      <td>268</td>\n",
       "      <td>264.0</td>\n",
       "      <td>NaN</td>\n",
       "      <td>NaN</td>\n",
       "      <td>Rome</td>\n",
       "    </tr>\n",
       "  </tbody>\n",
       "</table>\n",
       "<p>50970 rows × 13 columns</p>\n",
       "</div>"
      ],
      "text/plain": [
       "       Catalogue  Region  Findspot       Province      Type  Denomination  \\\n",
       "0              1  Africa     Gafsa  Proconsularis     hoard    sestertius   \n",
       "1              2  Africa     Gafsa  Proconsularis     hoard    sestertius   \n",
       "2              3  Africa     Gafsa  Proconsularis     hoard    sestertius   \n",
       "3              4  Africa     Gafsa  Proconsularis     hoard    sestertius   \n",
       "4              5  Africa     Gafsa  Proconsularis     hoard    sestertius   \n",
       "...          ...     ...       ...            ...       ...           ...   \n",
       "50965      50966  Africa  Segermes  Proconsularis  sitefind  antoninianus   \n",
       "50966      50967  Africa  Segermes  Proconsularis  sitefind  antoninianus   \n",
       "50967      50968  Africa  Segermes  Proconsularis  sitefind  antoninianus   \n",
       "50968      50969  Africa  Segermes  Proconsularis  sitefind  antoninianus   \n",
       "50969      50970  Africa  Segermes  Proconsularis  sitefind  antoninianus   \n",
       "\n",
       "      Weight  Year_min  Year_max  Mint_Year  Circulation Terminal_date  \\\n",
       "0      21.07       104       111      108.0        152.0           259   \n",
       "1      21.11       116       117      117.0        143.0           259   \n",
       "2      23.27       116       117      117.0        143.0           259   \n",
       "3      25.42       119       138      129.0        131.0           259   \n",
       "4      21.81       119       138      129.0        131.0           259   \n",
       "...      ...       ...       ...        ...          ...           ...   \n",
       "50965   1.46       270       270      270.0          NaN           NaN   \n",
       "50966   2.09       270       270      270.0          NaN           NaN   \n",
       "50967   2.57       270       275      272.5          NaN           NaN   \n",
       "50968   1.46       260       268      264.0          NaN           NaN   \n",
       "50969   2.87       260       268      264.0          NaN           NaN   \n",
       "\n",
       "          Mint  \n",
       "0         Rome  \n",
       "1         Rome  \n",
       "2         Rome  \n",
       "3         Rome  \n",
       "4         Rome  \n",
       "...        ...  \n",
       "50965     Rome  \n",
       "50966     Rome  \n",
       "50967  Tripoli  \n",
       "50968     Rome  \n",
       "50969     Rome  \n",
       "\n",
       "[50970 rows x 13 columns]"
      ]
     },
     "execution_count": 3,
     "metadata": {},
     "output_type": "execute_result"
    }
   ],
   "source": [
    "import pandas as pd\n",
    "from collections import Counter\n",
    "\n",
    "data_frame = pd.read_csv('isaw-papers-13-data.csv')\n",
    "data_frame"
   ]
  },
  {
   "cell_type": "markdown",
   "metadata": {},
   "source": [
    "### Exploring and Cleaning: an iterative process"
   ]
  },
  {
   "cell_type": "markdown",
   "metadata": {},
   "source": [
    "To some extent, I already know what type of data can be found in the dataset and what I want to focus my attention on. For this reason, before analyzing any further, I can exclude some columns and type of data from the dataset, so that I can work on a restricted and on point set.\n",
    "\n",
    "For example, I will check the Region, the findspot and the denomination to see if there are any empty/NAN/unknown spots and then retain only **Region=Africa**, **findspot=hoard** and **exclude** any denomination of **imitation coins**. Moreover, the timespan the I want to consider is **23 BCE-275 CE**."
   ]
  },
  {
   "cell_type": "code",
   "execution_count": 4,
   "metadata": {
    "scrolled": true
   },
   "outputs": [
    {
     "data": {
      "text/plain": [
       "Counter({'Africa': 35559, 'Gaul': 13587, 'Spain': 1207, 'Britain': 617})"
      ]
     },
     "execution_count": 4,
     "metadata": {},
     "output_type": "execute_result"
    }
   ],
   "source": [
    "Counter(data_frame['Region'])"
   ]
  },
  {
   "cell_type": "code",
   "execution_count": 5,
   "metadata": {},
   "outputs": [
    {
     "data": {
      "text/plain": [
       "Counter({'hoard': 49759, 'sitefind': 1211})"
      ]
     },
     "execution_count": 5,
     "metadata": {},
     "output_type": "execute_result"
    }
   ],
   "source": [
    "Counter(data_frame['Type'])"
   ]
  },
  {
   "cell_type": "markdown",
   "metadata": {},
   "source": [
    "What I can immediately do is retrieve only the data that has as **Region=Africa** and **findspot=hoard**."
   ]
  },
  {
   "cell_type": "code",
   "execution_count": 6,
   "metadata": {},
   "outputs": [
    {
     "data": {
      "text/html": [
       "<div>\n",
       "<style scoped>\n",
       "    .dataframe tbody tr th:only-of-type {\n",
       "        vertical-align: middle;\n",
       "    }\n",
       "\n",
       "    .dataframe tbody tr th {\n",
       "        vertical-align: top;\n",
       "    }\n",
       "\n",
       "    .dataframe thead th {\n",
       "        text-align: right;\n",
       "    }\n",
       "</style>\n",
       "<table border=\"1\" class=\"dataframe\">\n",
       "  <thead>\n",
       "    <tr style=\"text-align: right;\">\n",
       "      <th></th>\n",
       "      <th>Catalogue</th>\n",
       "      <th>Region</th>\n",
       "      <th>Findspot</th>\n",
       "      <th>Province</th>\n",
       "      <th>Type</th>\n",
       "      <th>Denomination</th>\n",
       "      <th>Weight</th>\n",
       "      <th>Year_min</th>\n",
       "      <th>Year_max</th>\n",
       "      <th>Mint_Year</th>\n",
       "      <th>Circulation</th>\n",
       "      <th>Terminal_date</th>\n",
       "      <th>Mint</th>\n",
       "    </tr>\n",
       "  </thead>\n",
       "  <tbody>\n",
       "    <tr>\n",
       "      <th>0</th>\n",
       "      <td>1</td>\n",
       "      <td>Africa</td>\n",
       "      <td>Gafsa</td>\n",
       "      <td>Proconsularis</td>\n",
       "      <td>hoard</td>\n",
       "      <td>sestertius</td>\n",
       "      <td>21.07</td>\n",
       "      <td>104</td>\n",
       "      <td>111</td>\n",
       "      <td>108.0</td>\n",
       "      <td>152.0</td>\n",
       "      <td>259</td>\n",
       "      <td>Rome</td>\n",
       "    </tr>\n",
       "    <tr>\n",
       "      <th>1</th>\n",
       "      <td>2</td>\n",
       "      <td>Africa</td>\n",
       "      <td>Gafsa</td>\n",
       "      <td>Proconsularis</td>\n",
       "      <td>hoard</td>\n",
       "      <td>sestertius</td>\n",
       "      <td>21.11</td>\n",
       "      <td>116</td>\n",
       "      <td>117</td>\n",
       "      <td>117.0</td>\n",
       "      <td>143.0</td>\n",
       "      <td>259</td>\n",
       "      <td>Rome</td>\n",
       "    </tr>\n",
       "    <tr>\n",
       "      <th>2</th>\n",
       "      <td>3</td>\n",
       "      <td>Africa</td>\n",
       "      <td>Gafsa</td>\n",
       "      <td>Proconsularis</td>\n",
       "      <td>hoard</td>\n",
       "      <td>sestertius</td>\n",
       "      <td>23.27</td>\n",
       "      <td>116</td>\n",
       "      <td>117</td>\n",
       "      <td>117.0</td>\n",
       "      <td>143.0</td>\n",
       "      <td>259</td>\n",
       "      <td>Rome</td>\n",
       "    </tr>\n",
       "    <tr>\n",
       "      <th>3</th>\n",
       "      <td>4</td>\n",
       "      <td>Africa</td>\n",
       "      <td>Gafsa</td>\n",
       "      <td>Proconsularis</td>\n",
       "      <td>hoard</td>\n",
       "      <td>sestertius</td>\n",
       "      <td>25.42</td>\n",
       "      <td>119</td>\n",
       "      <td>138</td>\n",
       "      <td>129.0</td>\n",
       "      <td>131.0</td>\n",
       "      <td>259</td>\n",
       "      <td>Rome</td>\n",
       "    </tr>\n",
       "    <tr>\n",
       "      <th>4</th>\n",
       "      <td>5</td>\n",
       "      <td>Africa</td>\n",
       "      <td>Gafsa</td>\n",
       "      <td>Proconsularis</td>\n",
       "      <td>hoard</td>\n",
       "      <td>sestertius</td>\n",
       "      <td>21.81</td>\n",
       "      <td>119</td>\n",
       "      <td>138</td>\n",
       "      <td>129.0</td>\n",
       "      <td>131.0</td>\n",
       "      <td>259</td>\n",
       "      <td>Rome</td>\n",
       "    </tr>\n",
       "    <tr>\n",
       "      <th>...</th>\n",
       "      <td>...</td>\n",
       "      <td>...</td>\n",
       "      <td>...</td>\n",
       "      <td>...</td>\n",
       "      <td>...</td>\n",
       "      <td>...</td>\n",
       "      <td>...</td>\n",
       "      <td>...</td>\n",
       "      <td>...</td>\n",
       "      <td>...</td>\n",
       "      <td>...</td>\n",
       "      <td>...</td>\n",
       "      <td>...</td>\n",
       "    </tr>\n",
       "    <tr>\n",
       "      <th>50955</th>\n",
       "      <td>50956</td>\n",
       "      <td>Africa</td>\n",
       "      <td>Banasa - oven</td>\n",
       "      <td>Mauretania Tingitana</td>\n",
       "      <td>hoard</td>\n",
       "      <td>antoninianus</td>\n",
       "      <td>NaN</td>\n",
       "      <td>270</td>\n",
       "      <td>275</td>\n",
       "      <td>272.5</td>\n",
       "      <td>2.5</td>\n",
       "      <td>275</td>\n",
       "      <td>Gaul/Italy</td>\n",
       "    </tr>\n",
       "    <tr>\n",
       "      <th>50956</th>\n",
       "      <td>50957</td>\n",
       "      <td>Africa</td>\n",
       "      <td>Banasa - oven</td>\n",
       "      <td>Mauretania Tingitana</td>\n",
       "      <td>hoard</td>\n",
       "      <td>antoninianus</td>\n",
       "      <td>NaN</td>\n",
       "      <td>270</td>\n",
       "      <td>275</td>\n",
       "      <td>272.5</td>\n",
       "      <td>2.5</td>\n",
       "      <td>275</td>\n",
       "      <td>Gaul/Italy</td>\n",
       "    </tr>\n",
       "    <tr>\n",
       "      <th>50957</th>\n",
       "      <td>50958</td>\n",
       "      <td>Africa</td>\n",
       "      <td>Banasa - oven</td>\n",
       "      <td>Mauretania Tingitana</td>\n",
       "      <td>hoard</td>\n",
       "      <td>antoninianus</td>\n",
       "      <td>NaN</td>\n",
       "      <td>270</td>\n",
       "      <td>275</td>\n",
       "      <td>272.5</td>\n",
       "      <td>2.5</td>\n",
       "      <td>275</td>\n",
       "      <td>Gaul/Italy</td>\n",
       "    </tr>\n",
       "    <tr>\n",
       "      <th>50958</th>\n",
       "      <td>50959</td>\n",
       "      <td>Africa</td>\n",
       "      <td>Banasa - oven</td>\n",
       "      <td>Mauretania Tingitana</td>\n",
       "      <td>hoard</td>\n",
       "      <td>antoninianus</td>\n",
       "      <td>NaN</td>\n",
       "      <td>270</td>\n",
       "      <td>275</td>\n",
       "      <td>272.5</td>\n",
       "      <td>2.5</td>\n",
       "      <td>275</td>\n",
       "      <td>Gaul/Italy</td>\n",
       "    </tr>\n",
       "    <tr>\n",
       "      <th>50959</th>\n",
       "      <td>50960</td>\n",
       "      <td>Africa</td>\n",
       "      <td>Banasa - oven</td>\n",
       "      <td>Mauretania Tingitana</td>\n",
       "      <td>hoard</td>\n",
       "      <td>antoninianus</td>\n",
       "      <td>NaN</td>\n",
       "      <td>270</td>\n",
       "      <td>275</td>\n",
       "      <td>272.5</td>\n",
       "      <td>2.5</td>\n",
       "      <td>275</td>\n",
       "      <td>Gaul/Italy</td>\n",
       "    </tr>\n",
       "  </tbody>\n",
       "</table>\n",
       "<p>34384 rows × 13 columns</p>\n",
       "</div>"
      ],
      "text/plain": [
       "       Catalogue  Region       Findspot              Province   Type  \\\n",
       "0              1  Africa          Gafsa         Proconsularis  hoard   \n",
       "1              2  Africa          Gafsa         Proconsularis  hoard   \n",
       "2              3  Africa          Gafsa         Proconsularis  hoard   \n",
       "3              4  Africa          Gafsa         Proconsularis  hoard   \n",
       "4              5  Africa          Gafsa         Proconsularis  hoard   \n",
       "...          ...     ...            ...                   ...    ...   \n",
       "50955      50956  Africa  Banasa - oven  Mauretania Tingitana  hoard   \n",
       "50956      50957  Africa  Banasa - oven  Mauretania Tingitana  hoard   \n",
       "50957      50958  Africa  Banasa - oven  Mauretania Tingitana  hoard   \n",
       "50958      50959  Africa  Banasa - oven  Mauretania Tingitana  hoard   \n",
       "50959      50960  Africa  Banasa - oven  Mauretania Tingitana  hoard   \n",
       "\n",
       "       Denomination Weight  Year_min  Year_max  Mint_Year  Circulation  \\\n",
       "0        sestertius  21.07       104       111      108.0        152.0   \n",
       "1        sestertius  21.11       116       117      117.0        143.0   \n",
       "2        sestertius  23.27       116       117      117.0        143.0   \n",
       "3        sestertius  25.42       119       138      129.0        131.0   \n",
       "4        sestertius  21.81       119       138      129.0        131.0   \n",
       "...             ...    ...       ...       ...        ...          ...   \n",
       "50955  antoninianus    NaN       270       275      272.5          2.5   \n",
       "50956  antoninianus    NaN       270       275      272.5          2.5   \n",
       "50957  antoninianus    NaN       270       275      272.5          2.5   \n",
       "50958  antoninianus    NaN       270       275      272.5          2.5   \n",
       "50959  antoninianus    NaN       270       275      272.5          2.5   \n",
       "\n",
       "      Terminal_date        Mint  \n",
       "0               259        Rome  \n",
       "1               259        Rome  \n",
       "2               259        Rome  \n",
       "3               259        Rome  \n",
       "4               259        Rome  \n",
       "...             ...         ...  \n",
       "50955           275  Gaul/Italy  \n",
       "50956           275  Gaul/Italy  \n",
       "50957           275  Gaul/Italy  \n",
       "50958           275  Gaul/Italy  \n",
       "50959           275  Gaul/Italy  \n",
       "\n",
       "[34384 rows x 13 columns]"
      ]
     },
     "execution_count": 6,
     "metadata": {},
     "output_type": "execute_result"
    }
   ],
   "source": [
    "df_africa = data_frame[(data_frame['Region'] == 'Africa') & (data_frame['Type'] == 'hoard')]\n",
    "df_africa"
   ]
  },
  {
   "cell_type": "markdown",
   "metadata": {},
   "source": [
    "For more clarity, I can delete all the columns that will not be useful for my research."
   ]
  },
  {
   "cell_type": "code",
   "execution_count": 7,
   "metadata": {},
   "outputs": [
    {
     "data": {
      "text/html": [
       "<div>\n",
       "<style scoped>\n",
       "    .dataframe tbody tr th:only-of-type {\n",
       "        vertical-align: middle;\n",
       "    }\n",
       "\n",
       "    .dataframe tbody tr th {\n",
       "        vertical-align: top;\n",
       "    }\n",
       "\n",
       "    .dataframe thead th {\n",
       "        text-align: right;\n",
       "    }\n",
       "</style>\n",
       "<table border=\"1\" class=\"dataframe\">\n",
       "  <thead>\n",
       "    <tr style=\"text-align: right;\">\n",
       "      <th></th>\n",
       "      <th>Catalogue</th>\n",
       "      <th>Findspot</th>\n",
       "      <th>Province</th>\n",
       "      <th>Denomination</th>\n",
       "      <th>Mint_Year</th>\n",
       "      <th>Mint</th>\n",
       "    </tr>\n",
       "  </thead>\n",
       "  <tbody>\n",
       "    <tr>\n",
       "      <th>0</th>\n",
       "      <td>1</td>\n",
       "      <td>Gafsa</td>\n",
       "      <td>Proconsularis</td>\n",
       "      <td>sestertius</td>\n",
       "      <td>108.0</td>\n",
       "      <td>Rome</td>\n",
       "    </tr>\n",
       "    <tr>\n",
       "      <th>1</th>\n",
       "      <td>2</td>\n",
       "      <td>Gafsa</td>\n",
       "      <td>Proconsularis</td>\n",
       "      <td>sestertius</td>\n",
       "      <td>117.0</td>\n",
       "      <td>Rome</td>\n",
       "    </tr>\n",
       "    <tr>\n",
       "      <th>2</th>\n",
       "      <td>3</td>\n",
       "      <td>Gafsa</td>\n",
       "      <td>Proconsularis</td>\n",
       "      <td>sestertius</td>\n",
       "      <td>117.0</td>\n",
       "      <td>Rome</td>\n",
       "    </tr>\n",
       "    <tr>\n",
       "      <th>3</th>\n",
       "      <td>4</td>\n",
       "      <td>Gafsa</td>\n",
       "      <td>Proconsularis</td>\n",
       "      <td>sestertius</td>\n",
       "      <td>129.0</td>\n",
       "      <td>Rome</td>\n",
       "    </tr>\n",
       "    <tr>\n",
       "      <th>4</th>\n",
       "      <td>5</td>\n",
       "      <td>Gafsa</td>\n",
       "      <td>Proconsularis</td>\n",
       "      <td>sestertius</td>\n",
       "      <td>129.0</td>\n",
       "      <td>Rome</td>\n",
       "    </tr>\n",
       "    <tr>\n",
       "      <th>...</th>\n",
       "      <td>...</td>\n",
       "      <td>...</td>\n",
       "      <td>...</td>\n",
       "      <td>...</td>\n",
       "      <td>...</td>\n",
       "      <td>...</td>\n",
       "    </tr>\n",
       "    <tr>\n",
       "      <th>50955</th>\n",
       "      <td>50956</td>\n",
       "      <td>Banasa - oven</td>\n",
       "      <td>Mauretania Tingitana</td>\n",
       "      <td>antoninianus</td>\n",
       "      <td>272.5</td>\n",
       "      <td>Gaul/Italy</td>\n",
       "    </tr>\n",
       "    <tr>\n",
       "      <th>50956</th>\n",
       "      <td>50957</td>\n",
       "      <td>Banasa - oven</td>\n",
       "      <td>Mauretania Tingitana</td>\n",
       "      <td>antoninianus</td>\n",
       "      <td>272.5</td>\n",
       "      <td>Gaul/Italy</td>\n",
       "    </tr>\n",
       "    <tr>\n",
       "      <th>50957</th>\n",
       "      <td>50958</td>\n",
       "      <td>Banasa - oven</td>\n",
       "      <td>Mauretania Tingitana</td>\n",
       "      <td>antoninianus</td>\n",
       "      <td>272.5</td>\n",
       "      <td>Gaul/Italy</td>\n",
       "    </tr>\n",
       "    <tr>\n",
       "      <th>50958</th>\n",
       "      <td>50959</td>\n",
       "      <td>Banasa - oven</td>\n",
       "      <td>Mauretania Tingitana</td>\n",
       "      <td>antoninianus</td>\n",
       "      <td>272.5</td>\n",
       "      <td>Gaul/Italy</td>\n",
       "    </tr>\n",
       "    <tr>\n",
       "      <th>50959</th>\n",
       "      <td>50960</td>\n",
       "      <td>Banasa - oven</td>\n",
       "      <td>Mauretania Tingitana</td>\n",
       "      <td>antoninianus</td>\n",
       "      <td>272.5</td>\n",
       "      <td>Gaul/Italy</td>\n",
       "    </tr>\n",
       "  </tbody>\n",
       "</table>\n",
       "<p>34384 rows × 6 columns</p>\n",
       "</div>"
      ],
      "text/plain": [
       "       Catalogue       Findspot              Province  Denomination  \\\n",
       "0              1          Gafsa         Proconsularis    sestertius   \n",
       "1              2          Gafsa         Proconsularis    sestertius   \n",
       "2              3          Gafsa         Proconsularis    sestertius   \n",
       "3              4          Gafsa         Proconsularis    sestertius   \n",
       "4              5          Gafsa         Proconsularis    sestertius   \n",
       "...          ...            ...                   ...           ...   \n",
       "50955      50956  Banasa - oven  Mauretania Tingitana  antoninianus   \n",
       "50956      50957  Banasa - oven  Mauretania Tingitana  antoninianus   \n",
       "50957      50958  Banasa - oven  Mauretania Tingitana  antoninianus   \n",
       "50958      50959  Banasa - oven  Mauretania Tingitana  antoninianus   \n",
       "50959      50960  Banasa - oven  Mauretania Tingitana  antoninianus   \n",
       "\n",
       "       Mint_Year        Mint  \n",
       "0          108.0        Rome  \n",
       "1          117.0        Rome  \n",
       "2          117.0        Rome  \n",
       "3          129.0        Rome  \n",
       "4          129.0        Rome  \n",
       "...          ...         ...  \n",
       "50955      272.5  Gaul/Italy  \n",
       "50956      272.5  Gaul/Italy  \n",
       "50957      272.5  Gaul/Italy  \n",
       "50958      272.5  Gaul/Italy  \n",
       "50959      272.5  Gaul/Italy  \n",
       "\n",
       "[34384 rows x 6 columns]"
      ]
     },
     "execution_count": 7,
     "metadata": {},
     "output_type": "execute_result"
    }
   ],
   "source": [
    "df_africa = df_africa.drop(['Region','Type', 'Weight', 'Year_min', 'Year_max', 'Circulation', 'Terminal_date'], axis=1)\n",
    "df_africa"
   ]
  },
  {
   "cell_type": "markdown",
   "metadata": {},
   "source": [
    "Checking Denominations, I notice that there are “imitation antoninianus” that I need to exclude."
   ]
  },
  {
   "cell_type": "code",
   "execution_count": 8,
   "metadata": {},
   "outputs": [
    {
     "data": {
      "text/plain": [
       "Counter({'sestertius': 8045,\n",
       "         'dupondius': 1,\n",
       "         'denarius': 4603,\n",
       "         'aureus': 38,\n",
       "         'as': 4,\n",
       "         'dupondius/as': 1,\n",
       "         'antoninianus': 19680,\n",
       "         'imitation antoninianus': 2012})"
      ]
     },
     "execution_count": 8,
     "metadata": {},
     "output_type": "execute_result"
    }
   ],
   "source": [
    "Counter(df_africa['Denomination'])"
   ]
  },
  {
   "cell_type": "code",
   "execution_count": 9,
   "metadata": {},
   "outputs": [
    {
     "data": {
      "text/html": [
       "<div>\n",
       "<style scoped>\n",
       "    .dataframe tbody tr th:only-of-type {\n",
       "        vertical-align: middle;\n",
       "    }\n",
       "\n",
       "    .dataframe tbody tr th {\n",
       "        vertical-align: top;\n",
       "    }\n",
       "\n",
       "    .dataframe thead th {\n",
       "        text-align: right;\n",
       "    }\n",
       "</style>\n",
       "<table border=\"1\" class=\"dataframe\">\n",
       "  <thead>\n",
       "    <tr style=\"text-align: right;\">\n",
       "      <th></th>\n",
       "      <th>Catalogue</th>\n",
       "      <th>Findspot</th>\n",
       "      <th>Province</th>\n",
       "      <th>Denomination</th>\n",
       "      <th>Mint_Year</th>\n",
       "      <th>Mint</th>\n",
       "    </tr>\n",
       "  </thead>\n",
       "  <tbody>\n",
       "    <tr>\n",
       "      <th>0</th>\n",
       "      <td>1</td>\n",
       "      <td>Gafsa</td>\n",
       "      <td>Proconsularis</td>\n",
       "      <td>sestertius</td>\n",
       "      <td>108.0</td>\n",
       "      <td>Rome</td>\n",
       "    </tr>\n",
       "    <tr>\n",
       "      <th>1</th>\n",
       "      <td>2</td>\n",
       "      <td>Gafsa</td>\n",
       "      <td>Proconsularis</td>\n",
       "      <td>sestertius</td>\n",
       "      <td>117.0</td>\n",
       "      <td>Rome</td>\n",
       "    </tr>\n",
       "    <tr>\n",
       "      <th>2</th>\n",
       "      <td>3</td>\n",
       "      <td>Gafsa</td>\n",
       "      <td>Proconsularis</td>\n",
       "      <td>sestertius</td>\n",
       "      <td>117.0</td>\n",
       "      <td>Rome</td>\n",
       "    </tr>\n",
       "    <tr>\n",
       "      <th>3</th>\n",
       "      <td>4</td>\n",
       "      <td>Gafsa</td>\n",
       "      <td>Proconsularis</td>\n",
       "      <td>sestertius</td>\n",
       "      <td>129.0</td>\n",
       "      <td>Rome</td>\n",
       "    </tr>\n",
       "    <tr>\n",
       "      <th>4</th>\n",
       "      <td>5</td>\n",
       "      <td>Gafsa</td>\n",
       "      <td>Proconsularis</td>\n",
       "      <td>sestertius</td>\n",
       "      <td>129.0</td>\n",
       "      <td>Rome</td>\n",
       "    </tr>\n",
       "    <tr>\n",
       "      <th>...</th>\n",
       "      <td>...</td>\n",
       "      <td>...</td>\n",
       "      <td>...</td>\n",
       "      <td>...</td>\n",
       "      <td>...</td>\n",
       "      <td>...</td>\n",
       "    </tr>\n",
       "    <tr>\n",
       "      <th>50955</th>\n",
       "      <td>50956</td>\n",
       "      <td>Banasa - oven</td>\n",
       "      <td>Mauretania Tingitana</td>\n",
       "      <td>antoninianus</td>\n",
       "      <td>272.5</td>\n",
       "      <td>Gaul/Italy</td>\n",
       "    </tr>\n",
       "    <tr>\n",
       "      <th>50956</th>\n",
       "      <td>50957</td>\n",
       "      <td>Banasa - oven</td>\n",
       "      <td>Mauretania Tingitana</td>\n",
       "      <td>antoninianus</td>\n",
       "      <td>272.5</td>\n",
       "      <td>Gaul/Italy</td>\n",
       "    </tr>\n",
       "    <tr>\n",
       "      <th>50957</th>\n",
       "      <td>50958</td>\n",
       "      <td>Banasa - oven</td>\n",
       "      <td>Mauretania Tingitana</td>\n",
       "      <td>antoninianus</td>\n",
       "      <td>272.5</td>\n",
       "      <td>Gaul/Italy</td>\n",
       "    </tr>\n",
       "    <tr>\n",
       "      <th>50958</th>\n",
       "      <td>50959</td>\n",
       "      <td>Banasa - oven</td>\n",
       "      <td>Mauretania Tingitana</td>\n",
       "      <td>antoninianus</td>\n",
       "      <td>272.5</td>\n",
       "      <td>Gaul/Italy</td>\n",
       "    </tr>\n",
       "    <tr>\n",
       "      <th>50959</th>\n",
       "      <td>50960</td>\n",
       "      <td>Banasa - oven</td>\n",
       "      <td>Mauretania Tingitana</td>\n",
       "      <td>antoninianus</td>\n",
       "      <td>272.5</td>\n",
       "      <td>Gaul/Italy</td>\n",
       "    </tr>\n",
       "  </tbody>\n",
       "</table>\n",
       "<p>32372 rows × 6 columns</p>\n",
       "</div>"
      ],
      "text/plain": [
       "       Catalogue       Findspot              Province  Denomination  \\\n",
       "0              1          Gafsa         Proconsularis    sestertius   \n",
       "1              2          Gafsa         Proconsularis    sestertius   \n",
       "2              3          Gafsa         Proconsularis    sestertius   \n",
       "3              4          Gafsa         Proconsularis    sestertius   \n",
       "4              5          Gafsa         Proconsularis    sestertius   \n",
       "...          ...            ...                   ...           ...   \n",
       "50955      50956  Banasa - oven  Mauretania Tingitana  antoninianus   \n",
       "50956      50957  Banasa - oven  Mauretania Tingitana  antoninianus   \n",
       "50957      50958  Banasa - oven  Mauretania Tingitana  antoninianus   \n",
       "50958      50959  Banasa - oven  Mauretania Tingitana  antoninianus   \n",
       "50959      50960  Banasa - oven  Mauretania Tingitana  antoninianus   \n",
       "\n",
       "       Mint_Year        Mint  \n",
       "0          108.0        Rome  \n",
       "1          117.0        Rome  \n",
       "2          117.0        Rome  \n",
       "3          129.0        Rome  \n",
       "4          129.0        Rome  \n",
       "...          ...         ...  \n",
       "50955      272.5  Gaul/Italy  \n",
       "50956      272.5  Gaul/Italy  \n",
       "50957      272.5  Gaul/Italy  \n",
       "50958      272.5  Gaul/Italy  \n",
       "50959      272.5  Gaul/Italy  \n",
       "\n",
       "[32372 rows x 6 columns]"
      ]
     },
     "execution_count": 9,
     "metadata": {},
     "output_type": "execute_result"
    }
   ],
   "source": [
    "df_africa = df_africa[df_africa['Denomination'] != 'imitation antoninianus']\n",
    "df_africa"
   ]
  },
  {
   "cell_type": "markdown",
   "metadata": {},
   "source": [
    "For sure, I can also exclude some coins minted before or after the time span of interest."
   ]
  },
  {
   "cell_type": "code",
   "execution_count": 10,
   "metadata": {
    "scrolled": true
   },
   "outputs": [
    {
     "data": {
      "text/html": [
       "<div>\n",
       "<style scoped>\n",
       "    .dataframe tbody tr th:only-of-type {\n",
       "        vertical-align: middle;\n",
       "    }\n",
       "\n",
       "    .dataframe tbody tr th {\n",
       "        vertical-align: top;\n",
       "    }\n",
       "\n",
       "    .dataframe thead th {\n",
       "        text-align: right;\n",
       "    }\n",
       "</style>\n",
       "<table border=\"1\" class=\"dataframe\">\n",
       "  <thead>\n",
       "    <tr style=\"text-align: right;\">\n",
       "      <th></th>\n",
       "      <th>Catalogue</th>\n",
       "      <th>Findspot</th>\n",
       "      <th>Province</th>\n",
       "      <th>Denomination</th>\n",
       "      <th>Mint_Year</th>\n",
       "      <th>Mint</th>\n",
       "    </tr>\n",
       "  </thead>\n",
       "  <tbody>\n",
       "    <tr>\n",
       "      <th>0</th>\n",
       "      <td>1</td>\n",
       "      <td>Gafsa</td>\n",
       "      <td>Proconsularis</td>\n",
       "      <td>sestertius</td>\n",
       "      <td>108.0</td>\n",
       "      <td>Rome</td>\n",
       "    </tr>\n",
       "    <tr>\n",
       "      <th>1</th>\n",
       "      <td>2</td>\n",
       "      <td>Gafsa</td>\n",
       "      <td>Proconsularis</td>\n",
       "      <td>sestertius</td>\n",
       "      <td>117.0</td>\n",
       "      <td>Rome</td>\n",
       "    </tr>\n",
       "    <tr>\n",
       "      <th>2</th>\n",
       "      <td>3</td>\n",
       "      <td>Gafsa</td>\n",
       "      <td>Proconsularis</td>\n",
       "      <td>sestertius</td>\n",
       "      <td>117.0</td>\n",
       "      <td>Rome</td>\n",
       "    </tr>\n",
       "    <tr>\n",
       "      <th>3</th>\n",
       "      <td>4</td>\n",
       "      <td>Gafsa</td>\n",
       "      <td>Proconsularis</td>\n",
       "      <td>sestertius</td>\n",
       "      <td>129.0</td>\n",
       "      <td>Rome</td>\n",
       "    </tr>\n",
       "    <tr>\n",
       "      <th>4</th>\n",
       "      <td>5</td>\n",
       "      <td>Gafsa</td>\n",
       "      <td>Proconsularis</td>\n",
       "      <td>sestertius</td>\n",
       "      <td>129.0</td>\n",
       "      <td>Rome</td>\n",
       "    </tr>\n",
       "    <tr>\n",
       "      <th>...</th>\n",
       "      <td>...</td>\n",
       "      <td>...</td>\n",
       "      <td>...</td>\n",
       "      <td>...</td>\n",
       "      <td>...</td>\n",
       "      <td>...</td>\n",
       "    </tr>\n",
       "    <tr>\n",
       "      <th>50955</th>\n",
       "      <td>50956</td>\n",
       "      <td>Banasa - oven</td>\n",
       "      <td>Mauretania Tingitana</td>\n",
       "      <td>antoninianus</td>\n",
       "      <td>272.5</td>\n",
       "      <td>Gaul/Italy</td>\n",
       "    </tr>\n",
       "    <tr>\n",
       "      <th>50956</th>\n",
       "      <td>50957</td>\n",
       "      <td>Banasa - oven</td>\n",
       "      <td>Mauretania Tingitana</td>\n",
       "      <td>antoninianus</td>\n",
       "      <td>272.5</td>\n",
       "      <td>Gaul/Italy</td>\n",
       "    </tr>\n",
       "    <tr>\n",
       "      <th>50957</th>\n",
       "      <td>50958</td>\n",
       "      <td>Banasa - oven</td>\n",
       "      <td>Mauretania Tingitana</td>\n",
       "      <td>antoninianus</td>\n",
       "      <td>272.5</td>\n",
       "      <td>Gaul/Italy</td>\n",
       "    </tr>\n",
       "    <tr>\n",
       "      <th>50958</th>\n",
       "      <td>50959</td>\n",
       "      <td>Banasa - oven</td>\n",
       "      <td>Mauretania Tingitana</td>\n",
       "      <td>antoninianus</td>\n",
       "      <td>272.5</td>\n",
       "      <td>Gaul/Italy</td>\n",
       "    </tr>\n",
       "    <tr>\n",
       "      <th>50959</th>\n",
       "      <td>50960</td>\n",
       "      <td>Banasa - oven</td>\n",
       "      <td>Mauretania Tingitana</td>\n",
       "      <td>antoninianus</td>\n",
       "      <td>272.5</td>\n",
       "      <td>Gaul/Italy</td>\n",
       "    </tr>\n",
       "  </tbody>\n",
       "</table>\n",
       "<p>32292 rows × 6 columns</p>\n",
       "</div>"
      ],
      "text/plain": [
       "       Catalogue       Findspot              Province  Denomination  \\\n",
       "0              1          Gafsa         Proconsularis    sestertius   \n",
       "1              2          Gafsa         Proconsularis    sestertius   \n",
       "2              3          Gafsa         Proconsularis    sestertius   \n",
       "3              4          Gafsa         Proconsularis    sestertius   \n",
       "4              5          Gafsa         Proconsularis    sestertius   \n",
       "...          ...            ...                   ...           ...   \n",
       "50955      50956  Banasa - oven  Mauretania Tingitana  antoninianus   \n",
       "50956      50957  Banasa - oven  Mauretania Tingitana  antoninianus   \n",
       "50957      50958  Banasa - oven  Mauretania Tingitana  antoninianus   \n",
       "50958      50959  Banasa - oven  Mauretania Tingitana  antoninianus   \n",
       "50959      50960  Banasa - oven  Mauretania Tingitana  antoninianus   \n",
       "\n",
       "       Mint_Year        Mint  \n",
       "0          108.0        Rome  \n",
       "1          117.0        Rome  \n",
       "2          117.0        Rome  \n",
       "3          129.0        Rome  \n",
       "4          129.0        Rome  \n",
       "...          ...         ...  \n",
       "50955      272.5  Gaul/Italy  \n",
       "50956      272.5  Gaul/Italy  \n",
       "50957      272.5  Gaul/Italy  \n",
       "50958      272.5  Gaul/Italy  \n",
       "50959      272.5  Gaul/Italy  \n",
       "\n",
       "[32292 rows x 6 columns]"
      ]
     },
     "execution_count": 10,
     "metadata": {},
     "output_type": "execute_result"
    }
   ],
   "source": [
    "df_africa = df_africa[(df_africa['Mint_Year'] >= -23) & (df_africa['Mint_Year'] <= 275)]\n",
    "df_africa"
   ]
  },
  {
   "cell_type": "code",
   "execution_count": 11,
   "metadata": {},
   "outputs": [
    {
     "name": "stdout",
     "output_type": "stream",
     "text": [
      "<class 'pandas.core.frame.DataFrame'>\n",
      "Int64Index: 32292 entries, 0 to 50959\n",
      "Data columns (total 6 columns):\n",
      " #   Column        Non-Null Count  Dtype  \n",
      "---  ------        --------------  -----  \n",
      " 0   Catalogue     32292 non-null  int64  \n",
      " 1   Findspot      32292 non-null  object \n",
      " 2   Province      32292 non-null  object \n",
      " 3   Denomination  32292 non-null  object \n",
      " 4   Mint_Year     32292 non-null  float64\n",
      " 5   Mint          32292 non-null  object \n",
      "dtypes: float64(1), int64(1), object(4)\n",
      "memory usage: 1.7+ MB\n"
     ]
    }
   ],
   "source": [
    "df_africa.info() # Index, Datatype and Memory information"
   ]
  },
  {
   "cell_type": "markdown",
   "metadata": {},
   "source": [
    "Each column has the correct type, no need for fixes."
   ]
  },
  {
   "cell_type": "code",
   "execution_count": 12,
   "metadata": {},
   "outputs": [
    {
     "data": {
      "text/plain": [
       "Catalogue       32292\n",
       "Findspot        32292\n",
       "Province        32292\n",
       "Denomination    32292\n",
       "Mint_Year       32292\n",
       "Mint            32292\n",
       "dtype: int64"
      ]
     },
     "execution_count": 12,
     "metadata": {},
     "output_type": "execute_result"
    }
   ],
   "source": [
    "df_africa.count() # Returns the number of non-null values in each DataFrame: rows should be 32372"
   ]
  },
  {
   "cell_type": "code",
   "execution_count": 24,
   "metadata": {},
   "outputs": [
    {
     "data": {
      "text/plain": [
       "Counter({'Gafsa': 133,\n",
       "         'Guelma': 4896,\n",
       "         'Rusguniae': 547,\n",
       "         'Monastir': 201,\n",
       "         'Lambaesa': 6,\n",
       "         'Volubilis -bracelet bourse': 104,\n",
       "         'Volubilis - Palais Gordien': 68,\n",
       "         'Banasa - Boulangerie': 491,\n",
       "         'Banasa - Maison Fonteius ': 6,\n",
       "         'Banasa -9 HS found (1954)': 9,\n",
       "         'Banasa - Maison Diplome': 33,\n",
       "         'Banasa -north baths': 14,\n",
       "         'Ain Temouchent': 267,\n",
       "         'Hadrumetum': 601,\n",
       "         'El-Hamadi': 830,\n",
       "         'Ain Bessem': 26,\n",
       "         'Ain el Djenan': 21,\n",
       "         'Albulae': 13,\n",
       "         'Albulae (2)': 197,\n",
       "         'Albulae (3)': 45,\n",
       "         'Ain Trab': 61,\n",
       "         'Alger-Hammamet': 21,\n",
       "         'Alger-Ra•s Hamidou': 71,\n",
       "         'Thibilis': 506,\n",
       "         'Bou Isma•l': 5,\n",
       "         'Bouira': 10,\n",
       "         'Cherchel': 47,\n",
       "         'Cherchel (2)': 501,\n",
       "         'Cherchel (3)': 121,\n",
       "         'Auzia': 5,\n",
       "         'Cissi': 50,\n",
       "         'Cissi (2)': 80,\n",
       "         'Grarem': 226,\n",
       "         'Aquae Calidae': 202,\n",
       "         'Khemis el Khema': 225,\n",
       "         'Gadiaufala': 81,\n",
       "         'Miliana': 1476,\n",
       "         'Miliana (2)': 1379,\n",
       "         'Bou Arreridj': 240,\n",
       "         'Bou Arreridj (2)': 241,\n",
       "         'Gunugu': 51,\n",
       "         'Rusicade': 338,\n",
       "         'Rapidum': 49,\n",
       "         'Auzia (2)': 301,\n",
       "         'Auzia (3)': 73,\n",
       "         'Taher': 51,\n",
       "         'Lambaesa (2)': 55,\n",
       "         'Cartennas (2)': 744,\n",
       "         'Iomnium': 329,\n",
       "         'Thamugadi': 2,\n",
       "         'Lucu': 41,\n",
       "         'Tipasa': 21,\n",
       "         'Tipasa (2)': 64,\n",
       "         'Tipasa (3)': 11,\n",
       "         'Tipasa (4)': 94,\n",
       "         'Abbiar-Miggi': 3952,\n",
       "         'Gasr Selim': 877,\n",
       "         'Garian': 282,\n",
       "         'Sabratha (bath)': 31,\n",
       "         'Sabratha (insula 5)': 5,\n",
       "         'Tripoli ': 287,\n",
       "         'Adjim (Djerba)': 274,\n",
       "         'Carthage (1)': 15,\n",
       "         'Carthage (2)': 33,\n",
       "         'Djebeniana': 8,\n",
       "         'Thysdrus': 4004,\n",
       "         'Fadhiline': 4636,\n",
       "         'Thaenae': 12,\n",
       "         'Ras Kaboudia': 36,\n",
       "         'Hadrumetum (2)': 1007,\n",
       "         'Hadrumetum (3)': 89,\n",
       "         'Utica': 330,\n",
       "         'Banasa - Maison Fonteius': 44,\n",
       "         'Banasa - petit vase': 26,\n",
       "         'Banasa - oven': 64})"
      ]
     },
     "execution_count": 24,
     "metadata": {},
     "output_type": "execute_result"
    }
   ],
   "source": [
    "Counter(df_africa['Findspot'])"
   ]
  },
  {
   "cell_type": "markdown",
   "metadata": {},
   "source": [
    "Since the detail of the single archaeological excavation in a Findspot is not of my interest, I proceed to clean the data with the OpenRefine software in order to unify similar Findposts."
   ]
  },
  {
   "cell_type": "code",
   "execution_count": 25,
   "metadata": {},
   "outputs": [],
   "source": [
    "df_africa.to_csv('refined_dataset.csv', index=False)"
   ]
  },
  {
   "cell_type": "markdown",
   "metadata": {},
   "source": [
    "The result is a new dataset, which I transform back into a dataframe, and which contains this number of Findspots:"
   ]
  },
  {
   "cell_type": "code",
   "execution_count": 42,
   "metadata": {},
   "outputs": [
    {
     "name": "stdout",
     "output_type": "stream",
     "text": [
      "Guelma                4896\n",
      "Fadhiline             4636\n",
      "Thysdrus              4004\n",
      "Abbiar-Miggi          3952\n",
      "Miliana               2855\n",
      "Hadrumetum            1697\n",
      "Gasr Selim             877\n",
      "El-Hamadi              830\n",
      "Cartennas              744\n",
      "Banasa                 687\n",
      "Cherchel               669\n",
      "Rusguniae              547\n",
      "Thibilis               506\n",
      "Bou Arreridj           481\n",
      "Auzia                  379\n",
      "Rusicade               338\n",
      "Utica                  330\n",
      "Iomnium                329\n",
      "Tripoli                287\n",
      "Garian                 282\n",
      "Adjim                  274\n",
      "Ain Temouchent         267\n",
      "Albulae                255\n",
      "Grarem                 226\n",
      "Khemis el Khema        225\n",
      "Aquae Calidae          202\n",
      "Monastir               201\n",
      "Tipasa                 190\n",
      "Volubilis              172\n",
      "Gafsa                  133\n",
      "Cissi                  130\n",
      "Gadiaufala              81\n",
      "Alger-Rais Hamidou      71\n",
      "Lambaesa                61\n",
      "Ain Trab                61\n",
      "Taher                   51\n",
      "Gunugu                  51\n",
      "Rapidum                 49\n",
      "Carthage                48\n",
      "Lucu                    41\n",
      "Sabratha                36\n",
      "Ras Kaboudia            36\n",
      "Ain Bessem              26\n",
      "Ain el Djenan           21\n",
      "Alger-Hammamet          21\n",
      "Thaenae                 12\n",
      "Bouira                  10\n",
      "Djebeniana               8\n",
      "Bou Ismail               5\n",
      "Thamugadi                2\n",
      "Name: Findspot, dtype: int64\n"
     ]
    }
   ],
   "source": [
    "df_africa = pd.read_csv('cleaned_dataset.csv', encoding='utf-8 ')\n",
    "print(df_africa['Findspot'].value_counts())"
   ]
  },
  {
   "cell_type": "markdown",
   "metadata": {},
   "source": [
    "### Detect Outliers???"
   ]
  },
  {
   "cell_type": "code",
   "execution_count": 43,
   "metadata": {},
   "outputs": [
    {
     "data": {
      "text/plain": [
       "<matplotlib.axes._subplots.AxesSubplot at 0x1d505f45ac0>"
      ]
     },
     "execution_count": 43,
     "metadata": {},
     "output_type": "execute_result"
    },
    {
     "data": {
      "image/png": "[encoded data removed]",
      "text/plain": [
       "<Figure size 432x288 with 1 Axes>"
      ]
     },
     "metadata": {
      "needs_background": "light"
     },
     "output_type": "display_data"
    }
   ],
   "source": [
    "import seaborn as sns\n",
    "sns.boxplot(x=df_africa['Findspot'].value_counts().tolist())"
   ]
  },
  {
   "cell_type": "markdown",
   "metadata": {},
   "source": [
    "### Split data\n",
    "\n",
    "Three historical periods: \n",
    "1. 23 BCE- 96 CE\n",
    "2. 97-192 CE\n",
    "3. 193-275 CE"
   ]
  },
  {
   "cell_type": "code",
   "execution_count": 44,
   "metadata": {},
   "outputs": [],
   "source": [
    "df_africa1 = df_africa[df_africa['Mint_Year'] < 97]\n",
    "df_africa2 = df_africa[(df_africa['Mint_Year'] > 96) & (df_africa['Mint_Year'] < 193)]\n",
    "df_africa3 = df_africa[df_africa['Mint_Year'] > 192]"
   ]
  },
  {
   "cell_type": "code",
   "execution_count": 49,
   "metadata": {},
   "outputs": [],
   "source": [
    "def den_per_prov_count(data_frame):\n",
    "    '''\n",
    "    how many coins of each denomination per findspot, return new df\n",
    "    '''\n",
    "    find = data_frame['Findspot'].unique()\n",
    "    den = data_frame['Denomination'].unique()\n",
    "    new_d = {'Site': find.tolist()}\n",
    "    for d in den.tolist():\n",
    "        new_d[d] = 0\n",
    "    new_df = pd.DataFrame(data=new_d)\n",
    "    for f in find:\n",
    "        for idn in data_frame.index:\n",
    "            if data_frame['Findspot'][idn] == f:\n",
    "                denomination = data_frame['Denomination'][idn]\n",
    "                idx = new_df.index[new_df['Site'] == f].values[0]\n",
    "                new_df.at[idx, denomination] = new_df.at[idx, denomination] +1\n",
    "    return new_df"
   ]
  },
  {
   "cell_type": "code",
   "execution_count": null,
   "metadata": {},
   "outputs": [],
   "source": [
    "def total_counts(data_frame):\n",
    "    '''\n",
    "    sum the counts for each denomination type\n",
    "    '''\n",
    "    counts = den_per_prov(data_frame).sum(numeric_only=True).values.tolist()\n",
    "    return sum(counts)"
   ]
  },
  {
   "cell_type": "code",
   "execution_count": null,
   "metadata": {},
   "outputs": [],
   "source": [
    "def percentage(part, whole):\n",
    "    '''\n",
    "    calculate percentage of number on total\n",
    "    '''\n",
    "    if whole == 0 or part == 0:\n",
    "        return 0\n",
    "    else:\n",
    "        return 100 * float(part)/float(whole)"
   ]
  },
  {
   "cell_type": "code",
   "execution_count": null,
   "metadata": {},
   "outputs": [],
   "source": [
    "def per_prov_perc(data_frame):\n",
    "    '''\n",
    "    substitute count with percent\n",
    "    '''\n",
    "    total = total_counts(data_frame)\n",
    "    for col in data_frame.columns[1:]: # check if the column is correct"
   ]
  },
  {
   "cell_type": "code",
   "execution_count": 77,
   "metadata": {},
   "outputs": [
    {
     "name": "stdout",
     "output_type": "stream",
     "text": [
      "Site\n",
      "sestertius\n",
      "denarius\n",
      "aureus\n"
     ]
    }
   ],
   "source": [
    "for col in den_per_prov(df_africa1)[2:]:\n",
    "    print(col)"
   ]
  },
  {
   "cell_type": "code",
   "execution_count": 47,
   "metadata": {},
   "outputs": [],
   "source": [
    "den_per_prov(df_africa2, 'df_africa2.csv')"
   ]
  },
  {
   "cell_type": "code",
   "execution_count": 48,
   "metadata": {},
   "outputs": [],
   "source": [
    "den_per_prov(df_africa3, 'df_africa3.csv')"
   ]
  },
  {
   "cell_type": "markdown",
   "metadata": {},
   "source": [
    "### Let's see let's see"
   ]
  },
  {
   "cell_type": "markdown",
   "metadata": {},
   "source": [
    "I run the BR.r script on each of the three tables. This outputs 2 new files  each. Let's see what's inside them."
   ]
  },
  {
   "cell_type": "code",
   "execution_count": 21,
   "metadata": {},
   "outputs": [
    {
     "data": {
      "image/png": "[encoded data removed]",
      "text/plain": [
       "<Figure size 432x288 with 1 Axes>"
      ]
     },
     "metadata": {},
     "output_type": "display_data"
    }
   ],
   "source": [
    "import numpy as np\n",
    "import networkx as nx\n",
    "\n",
    "df1 = pd.read_csv('df_africa1_out.csv')\n",
    "input_data = pd.read_csv('df_africa1_out.csv', index_col=0)\n",
    "G = nx.DiGraph(input_data.values)\n",
    "\n",
    "nx.draw(G)"
   ]
  },
  {
   "cell_type": "code",
   "execution_count": 22,
   "metadata": {},
   "outputs": [
    {
     "data": {
      "image/png": "[encoded data removed]",
      "text/plain": [
       "<Figure size 432x288 with 1 Axes>"
      ]
     },
     "metadata": {},
     "output_type": "display_data"
    }
   ],
   "source": [
    "df2 = pd.read_csv('df_africa2_out.csv')\n",
    "\n",
    "input_data = pd.read_csv('df_africa2_out.csv', index_col=0)\n",
    "G = nx.DiGraph(input_data.values)\n",
    "\n",
    "nx.draw(G)"
   ]
  },
  {
   "cell_type": "code",
   "execution_count": 23,
   "metadata": {},
   "outputs": [
    {
     "data": {
      "image/png": "[encoded data removed]",
      "text/plain": [
       "<Figure size 432x288 with 1 Axes>"
      ]
     },
     "metadata": {},
     "output_type": "display_data"
    }
   ],
   "source": [
    "df3 = pd.read_csv('df_africa3_out.csv')\n",
    "\n",
    "input_data = pd.read_csv('df_africa3_out.csv', index_col=0)\n",
    "G = nx.DiGraph(input_data.values)\n",
    "\n",
    "nx.draw(G)"
   ]
  },
  {
   "cell_type": "markdown",
   "metadata": {},
   "source": [
    "## The Network"
   ]
  },
  {
   "cell_type": "code",
   "execution_count": 14,
   "metadata": {},
   "outputs": [
    {
     "data": {
      "text/plain": [
       "True"
      ]
     },
     "execution_count": 14,
     "metadata": {},
     "output_type": "execute_result"
    }
   ],
   "source": [
    "import networkx as nx\n",
    "G = nx.Graph()\n",
    "\n",
    "for prov in df_africa['Province']:\n",
    "    G.add_node(prov)\n",
    "G.has_node('Tripolitania') "
   ]
  }
 ],
 "metadata": {
  "kernelspec": {
   "display_name": "Python 3",
   "language": "python",
   "name": "python3"
  },
  "language_info": {
   "codemirror_mode": {
    "name": "ipython",
    "version": 3
   },
   "file_extension": ".py",
   "mimetype": "text/x-python",
   "name": "python",
   "nbconvert_exporter": "python",
   "pygments_lexer": "ipython3",
   "version": "3.8.3"
  }
 },
 "nbformat": 4,
 "nbformat_minor": 4
}
